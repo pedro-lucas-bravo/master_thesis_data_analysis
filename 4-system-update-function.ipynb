{
 "cells": [
  {
   "cell_type": "markdown",
   "metadata": {},
   "source": [
    "# System Update function: Move Agents algorithm\n",
    "\n",
    "Frame time and time to spent on a task (real time loop function)"
   ]
  },
  {
   "cell_type": "code",
   "execution_count": 1,
   "metadata": {},
   "outputs": [],
   "source": [
    "#packages\n",
    "import pandas as pd\n",
    "import numpy as np\n",
    "from scipy.stats import levene\n",
    "from scipy.stats import f_oneway\n",
    "from scipy.stats import kruskal\n",
    "from scipy.stats import ttest_ind\n",
    "import matplotlib.pyplot as plt"
   ]
  },
  {
   "cell_type": "code",
   "execution_count": 2,
   "metadata": {},
   "outputs": [],
   "source": [
    "def descriptive_stats(dataframe, div = 1.0, roundDec = 3):\n",
    "    stats = (dataframe.describe(include='all').transpose().filter (['min', '50%','mean', 'max', 'std']).set_axis(['Min.', 'Median', 'Mean', 'Max.', 'Std. Dev.'], axis = 1) / div).round(roundDec)\n",
    "    print(stats.to_latex())\n",
    "\n",
    "def processData(filename, xlabel, ylabel, figfile, funcMeans):\n",
    "    frametime_update_task = pd.read_csv(filename)\n",
    "    print(\"SIZE: \" + str(frametime_update_task.shape[0]))\n",
    "    \n",
    "    descriptive_stats(frametime_update_task)\n",
    "\n",
    "    boxdata = frametime_update_task.transpose().values.tolist()\n",
    "    fig, ax = plt.subplots()\n",
    "    ax.boxplot(boxdata)\n",
    "    plt.xlabel(xlabel)\n",
    "    plt.ylabel(ylabel)\n",
    "    plt.savefig(figfile)\n",
    "    plt.show()\n",
    "\n",
    "    d1, d2, d3, d4, d5, d6, d7, d8 = frametime_update_task.transpose().values.tolist()\n",
    "    levene_result = levene(d1, d2, d3, d4, d5, d6, d7, d8)\n",
    "    print(\"levene:\\n\" + str(levene_result))\n",
    "    anova_result = funcMeans(d1, d2, d3, d4, d5, d6, d7, d8)\n",
    "    print(\"Anova or kruskal:\\n\" + str(anova_result))\n",
    "    return frametime_update_task"
   ]
  },
  {
   "cell_type": "code",
   "execution_count": 3,
   "metadata": {},
   "outputs": [
    {
     "name": "stdout",
     "output_type": "stream",
     "text": [
      "SIZE: 2055\n",
      "\\begin{tabular}{lrrrrr}\n",
      "\\toprule\n",
      "{} &    Min. &  Median &    Mean &    Max. &  Std. Dev. \\\\\n",
      "\\midrule\n",
      "agent\\_ms\\_1 &  20.662 &  29.954 &  29.979 &  42.115 &      2.274 \\\\\n",
      "agent\\_ms\\_2 &  21.627 &  30.034 &  29.982 &  39.250 &      2.427 \\\\\n",
      "agent\\_ms\\_3 &  18.504 &  29.909 &  29.986 &  40.709 &      2.560 \\\\\n",
      "agent\\_ms\\_4 &  18.247 &  29.994 &  29.988 &  42.981 &      2.843 \\\\\n",
      "agent\\_ms\\_5 &  10.761 &  30.014 &  29.999 &  69.607 &      3.804 \\\\\n",
      "agent\\_ms\\_6 &   9.380 &  30.064 &  29.987 &  48.712 &      4.607 \\\\\n",
      "agent\\_ms\\_7 &  16.534 &  29.944 &  29.989 &  43.687 &      3.383 \\\\\n",
      "agent\\_ms\\_8 &  12.218 &  29.797 &  29.989 &  51.929 &      4.902 \\\\\n",
      "\\bottomrule\n",
      "\\end{tabular}\n",
      "\n"
     ]
    },
    {
     "data": {
      "image/png": "[encoded data removed]",
      "text/plain": [
       "<Figure size 432x288 with 1 Axes>"
      ]
     },
     "metadata": {
      "needs_background": "light"
     },
     "output_type": "display_data"
    },
    {
     "name": "stdout",
     "output_type": "stream",
     "text": [
      "levene:\n",
      "LeveneResult(statistic=181.90457869872813, pvalue=1.254755554676621e-260)\n",
      "Anova or kruskal:\n",
      "KruskalResult(statistic=2.9134924781261886, pvalue=0.8928878538368803)\n"
     ]
    },
    {
     "data": {
      "text/html": [
       "<div>\n",
       "<style scoped>\n",
       "    .dataframe tbody tr th:only-of-type {\n",
       "        vertical-align: middle;\n",
       "    }\n",
       "\n",
       "    .dataframe tbody tr th {\n",
       "        vertical-align: top;\n",
       "    }\n",
       "\n",
       "    .dataframe thead th {\n",
       "        text-align: right;\n",
       "    }\n",
       "</style>\n",
       "<table border=\"1\" class=\"dataframe\">\n",
       "  <thead>\n",
       "    <tr style=\"text-align: right;\">\n",
       "      <th></th>\n",
       "      <th>agent_ms_1</th>\n",
       "      <th>agent_ms_2</th>\n",
       "      <th>agent_ms_3</th>\n",
       "      <th>agent_ms_4</th>\n",
       "      <th>agent_ms_5</th>\n",
       "      <th>agent_ms_6</th>\n",
       "      <th>agent_ms_7</th>\n",
       "      <th>agent_ms_8</th>\n",
       "    </tr>\n",
       "  </thead>\n",
       "  <tbody>\n",
       "    <tr>\n",
       "      <th>0</th>\n",
       "      <td>29.521</td>\n",
       "      <td>29.221</td>\n",
       "      <td>31.179</td>\n",
       "      <td>31.375</td>\n",
       "      <td>69.607</td>\n",
       "      <td>26.807</td>\n",
       "      <td>30.291</td>\n",
       "      <td>25.291</td>\n",
       "    </tr>\n",
       "    <tr>\n",
       "      <th>1</th>\n",
       "      <td>31.880</td>\n",
       "      <td>30.158</td>\n",
       "      <td>30.901</td>\n",
       "      <td>29.211</td>\n",
       "      <td>15.608</td>\n",
       "      <td>30.632</td>\n",
       "      <td>29.674</td>\n",
       "      <td>32.794</td>\n",
       "    </tr>\n",
       "    <tr>\n",
       "      <th>2</th>\n",
       "      <td>28.955</td>\n",
       "      <td>31.918</td>\n",
       "      <td>28.613</td>\n",
       "      <td>27.511</td>\n",
       "      <td>32.397</td>\n",
       "      <td>29.771</td>\n",
       "      <td>30.015</td>\n",
       "      <td>30.069</td>\n",
       "    </tr>\n",
       "    <tr>\n",
       "      <th>3</th>\n",
       "      <td>29.997</td>\n",
       "      <td>28.159</td>\n",
       "      <td>28.530</td>\n",
       "      <td>31.682</td>\n",
       "      <td>31.207</td>\n",
       "      <td>29.001</td>\n",
       "      <td>26.869</td>\n",
       "      <td>32.980</td>\n",
       "    </tr>\n",
       "    <tr>\n",
       "      <th>4</th>\n",
       "      <td>31.736</td>\n",
       "      <td>29.712</td>\n",
       "      <td>33.703</td>\n",
       "      <td>34.476</td>\n",
       "      <td>33.517</td>\n",
       "      <td>31.819</td>\n",
       "      <td>31.576</td>\n",
       "      <td>24.961</td>\n",
       "    </tr>\n",
       "    <tr>\n",
       "      <th>...</th>\n",
       "      <td>...</td>\n",
       "      <td>...</td>\n",
       "      <td>...</td>\n",
       "      <td>...</td>\n",
       "      <td>...</td>\n",
       "      <td>...</td>\n",
       "      <td>...</td>\n",
       "      <td>...</td>\n",
       "    </tr>\n",
       "    <tr>\n",
       "      <th>2050</th>\n",
       "      <td>33.360</td>\n",
       "      <td>31.032</td>\n",
       "      <td>27.054</td>\n",
       "      <td>27.523</td>\n",
       "      <td>30.664</td>\n",
       "      <td>42.281</td>\n",
       "      <td>33.177</td>\n",
       "      <td>28.121</td>\n",
       "    </tr>\n",
       "    <tr>\n",
       "      <th>2051</th>\n",
       "      <td>27.976</td>\n",
       "      <td>29.142</td>\n",
       "      <td>30.287</td>\n",
       "      <td>29.247</td>\n",
       "      <td>30.717</td>\n",
       "      <td>19.433</td>\n",
       "      <td>31.426</td>\n",
       "      <td>29.164</td>\n",
       "    </tr>\n",
       "    <tr>\n",
       "      <th>2052</th>\n",
       "      <td>29.858</td>\n",
       "      <td>31.345</td>\n",
       "      <td>29.088</td>\n",
       "      <td>28.468</td>\n",
       "      <td>27.971</td>\n",
       "      <td>32.424</td>\n",
       "      <td>26.651</td>\n",
       "      <td>30.289</td>\n",
       "    </tr>\n",
       "    <tr>\n",
       "      <th>2053</th>\n",
       "      <td>27.835</td>\n",
       "      <td>27.780</td>\n",
       "      <td>32.086</td>\n",
       "      <td>30.586</td>\n",
       "      <td>31.857</td>\n",
       "      <td>24.673</td>\n",
       "      <td>28.359</td>\n",
       "      <td>29.469</td>\n",
       "    </tr>\n",
       "    <tr>\n",
       "      <th>2054</th>\n",
       "      <td>33.381</td>\n",
       "      <td>32.035</td>\n",
       "      <td>31.281</td>\n",
       "      <td>31.588</td>\n",
       "      <td>27.741</td>\n",
       "      <td>32.914</td>\n",
       "      <td>29.776</td>\n",
       "      <td>31.765</td>\n",
       "    </tr>\n",
       "  </tbody>\n",
       "</table>\n",
       "<p>2055 rows × 8 columns</p>\n",
       "</div>"
      ],
      "text/plain": [
       "      agent_ms_1  agent_ms_2  agent_ms_3  agent_ms_4  agent_ms_5  agent_ms_6  \\\n",
       "0         29.521      29.221      31.179      31.375      69.607      26.807   \n",
       "1         31.880      30.158      30.901      29.211      15.608      30.632   \n",
       "2         28.955      31.918      28.613      27.511      32.397      29.771   \n",
       "3         29.997      28.159      28.530      31.682      31.207      29.001   \n",
       "4         31.736      29.712      33.703      34.476      33.517      31.819   \n",
       "...          ...         ...         ...         ...         ...         ...   \n",
       "2050      33.360      31.032      27.054      27.523      30.664      42.281   \n",
       "2051      27.976      29.142      30.287      29.247      30.717      19.433   \n",
       "2052      29.858      31.345      29.088      28.468      27.971      32.424   \n",
       "2053      27.835      27.780      32.086      30.586      31.857      24.673   \n",
       "2054      33.381      32.035      31.281      31.588      27.741      32.914   \n",
       "\n",
       "      agent_ms_7  agent_ms_8  \n",
       "0         30.291      25.291  \n",
       "1         29.674      32.794  \n",
       "2         30.015      30.069  \n",
       "3         26.869      32.980  \n",
       "4         31.576      24.961  \n",
       "...          ...         ...  \n",
       "2050      33.177      28.121  \n",
       "2051      31.426      29.164  \n",
       "2052      26.651      30.289  \n",
       "2053      28.359      29.469  \n",
       "2054      29.776      31.765  \n",
       "\n",
       "[2055 rows x 8 columns]"
      ]
     },
     "execution_count": 3,
     "metadata": {},
     "output_type": "execute_result"
    }
   ],
   "source": [
    "processData('./FinalDatasets/system-update-function/update-movement-task-allagents-30ms.csv', 'Agent Size', 'Task Time (ms)', 'figures/4-system-update-function/mocap-frametime-boxplot.pdf', kruskal)\n"
   ]
  },
  {
   "cell_type": "code",
   "execution_count": 4,
   "metadata": {},
   "outputs": [
    {
     "name": "stdout",
     "output_type": "stream",
     "text": [
      "SIZE: 2041\n",
      "\\begin{tabular}{lrrrrr}\n",
      "\\toprule\n",
      "{} &   Min. &  Median &   Mean &    Max. &  Std. Dev. \\\\\n",
      "\\midrule\n",
      "agent\\_ms\\_1 &  0.173 &   0.711 &  0.892 &   6.316 &      0.613 \\\\\n",
      "agent\\_ms\\_2 &  0.359 &   1.396 &  1.363 &   7.046 &      0.697 \\\\\n",
      "agent\\_ms\\_3 &  0.473 &   1.263 &  1.515 &   7.903 &      0.755 \\\\\n",
      "agent\\_ms\\_4 &  0.816 &   2.152 &  2.399 &   8.999 &      0.917 \\\\\n",
      "agent\\_ms\\_5 &  0.741 &   2.073 &  2.506 &   9.176 &      1.139 \\\\\n",
      "agent\\_ms\\_6 &  1.042 &   2.894 &  3.470 &  13.907 &      1.507 \\\\\n",
      "agent\\_ms\\_7 &  0.994 &   3.017 &  3.499 &  10.446 &      1.572 \\\\\n",
      "agent\\_ms\\_8 &  1.241 &   2.901 &  3.437 &  12.443 &      1.594 \\\\\n",
      "\\bottomrule\n",
      "\\end{tabular}\n",
      "\n"
     ]
    },
    {
     "data": {
      "image/png": "[encoded data removed]",
      "text/plain": [
       "<Figure size 432x288 with 1 Axes>"
      ]
     },
     "metadata": {
      "needs_background": "light"
     },
     "output_type": "display_data"
    },
    {
     "name": "stdout",
     "output_type": "stream",
     "text": [
      "levene:\n",
      "LeveneResult(statistic=273.9028628278848, pvalue=0.0)\n",
      "Anova or kruskal:\n",
      "KruskalResult(statistic=10278.01848349378, pvalue=0.0)\n"
     ]
    }
   ],
   "source": [
    "func_data = processData('./FinalDatasets/system-update-function/update-movement-function-allagents.csv', 'Agent Size', 'Function Time (ms)', 'figures/4-system-update-function/mocap-functime-boxplot.pdf', kruskal)"
   ]
  },
  {
   "cell_type": "code",
   "execution_count": 5,
   "metadata": {},
   "outputs": [
    {
     "data": {
      "text/plain": [
       "<Figure size 432x288 with 0 Axes>"
      ]
     },
     "metadata": {},
     "output_type": "display_data"
    },
    {
     "data": {
      "image/png": "[encoded data removed]",
      "text/plain": [
       "<Figure size 864x360 with 2 Axes>"
      ]
     },
     "metadata": {
      "needs_background": "light"
     },
     "output_type": "display_data"
    }
   ],
   "source": [
    "#Means and Std\n",
    "colors = plt.rcParams[\"axes.prop_cycle\"]()\n",
    "means = np.mean(func_data.transpose().values, axis = 1)\n",
    "stds = np.std(func_data.transpose().values, axis = 1)\n",
    "agentsize = np.arange(1,9,1)\n",
    "plt.figure()\n",
    "fig, axs = plt.subplots(1, 2, figsize=(12,5))\n",
    "axs[0].plot(agentsize, means, color = next(colors)[\"color\"])\n",
    "axs[0].set_title('a) Mean')\n",
    "axs[0].set_xlabel('Agent Size')\n",
    "axs[0].set_ylabel('Function Time Mean (ms)')\n",
    "axs[1].plot(agentsize, stds, color = next(colors)[\"color\"])\n",
    "axs[1].set_title('a) Standard Deviation')\n",
    "axs[1].set_xlabel('Agent Size')\n",
    "axs[1].set_ylabel('Function Time Std. Dev. (ms)')\n",
    "plt.savefig('figures/4-system-update-function/function-movement-mean-std.pdf')\n",
    "plt.show()"
   ]
  }
 ],
 "metadata": {
  "kernelspec": {
   "display_name": "Python 3",
   "language": "python",
   "name": "python3"
  },
  "language_info": {
   "codemirror_mode": {
    "name": "ipython",
    "version": 3
   },
   "file_extension": ".py",
   "mimetype": "text/x-python",
   "name": "python",
   "nbconvert_exporter": "python",
   "pygments_lexer": "ipython3",
   "version": "3.8.3"
  }
 },
 "nbformat": 4,
 "nbformat_minor": 4
}
