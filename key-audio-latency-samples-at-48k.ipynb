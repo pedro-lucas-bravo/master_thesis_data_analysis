{
 "cells": [
  {
   "cell_type": "markdown",
   "metadata": {},
   "source": [
    "# key-audio-latency-samples-at-48k\n"
   ]
  },
  {
   "cell_type": "code",
   "execution_count": 6,
   "metadata": {},
   "outputs": [],
   "source": [
    "#packages\n",
    "import pandas as pd\n",
    "import numpy as np\n",
    "\n",
    "#Load files\n",
    "latencyPerAgent = []\n",
    "for i in range(1, 9):\n",
    "    latencyPerAgent.append(pd.read_csv('./FinalDatasets/key-audio-latency-samples-at-48k/key-audio-latency-'+ str(i) +'.csv'))"
   ]
  },
  {
   "cell_type": "code",
   "execution_count": 114,
   "metadata": {},
   "outputs": [],
   "source": [
    "#Arrange per measurement group\n",
    "from scipy.stats import levene\n",
    "from scipy.stats import f_oneway\n",
    "from scipy.stats import kruskal\n",
    "from scipy.stats import ttest_ind\n",
    "\n",
    "\n",
    "def extractGroup(name):    \n",
    "    headers = []\n",
    "    for i in range(8):\n",
    "        headers.append(name + str(i+1))\n",
    "    data = []\n",
    "    for i in range(8):\n",
    "        latencyPerAgent[i][name].name =str(i+1)\n",
    "        data.append(latencyPerAgent[i][name])   \n",
    "    return pd.concat(data, axis = 1)\n",
    "\n",
    "def descriptive_stats(dataframe, div = 1.0, roundDec = 3):\n",
    "    stats = (dataframe.describe(include='all').transpose().filter (['min', '50%','mean', 'max', 'std']).set_axis(['Min.', 'Median', 'Mean', 'Max.', 'Std. Dev.'], axis = 1) / div).round(roundDec)\n",
    "    print(stats.to_latex())"
   ]
  },
  {
   "cell_type": "code",
   "execution_count": 121,
   "metadata": {},
   "outputs": [
    {
     "name": "stdout",
     "output_type": "stream",
     "text": [
      "\\begin{tabular}{lrrrrr}\n",
      "\\toprule\n",
      "{} &    Min. &  Median &    Mean &    Max. &  Std. Dev. \\\\\n",
      "\\midrule\n",
      "1 &  34.083 &  40.562 &  42.067 &  53.562 &      6.004 \\\\\n",
      "2 &  27.188 &  38.427 &  38.802 &  50.667 &      6.445 \\\\\n",
      "3 &  25.938 &  36.198 &  37.162 &  50.146 &      6.783 \\\\\n",
      "4 &  23.312 &  39.625 &  38.760 &  53.000 &      8.036 \\\\\n",
      "5 &  26.438 &  37.333 &  38.073 &  50.417 &      6.812 \\\\\n",
      "6 &  26.625 &  38.938 &  38.724 &  50.792 &      6.731 \\\\\n",
      "7 &  22.312 &  35.833 &  36.922 &  51.792 &      7.829 \\\\\n",
      "8 &  26.458 &  39.073 &  39.810 &  52.292 &      7.049 \\\\\n",
      "\\bottomrule\n",
      "\\end{tabular}\n",
      "\n",
      "levene:\n",
      "LeveneResult(statistic=0.6709813453105908, pvalue=0.6965409403535181)\n",
      "Anova:\n",
      "F_onewayResult(statistic=1.6172795118700132, pvalue=0.1313043307447195)\n"
     ]
    }
   ],
   "source": [
    "# FOR Key Direct\n",
    "\n",
    "key_direct_all = extractGroup('key-direct')\n",
    "key_direct_all.to_csv('keyDirect.csv')\n",
    "descriptive_stats(key_direct_all, 48.0)\n",
    "\n",
    "d1, d2, d3, d4, d5, d6, d7, d8 = key_direct_all.transpose().values.tolist()\n",
    "levene_result = levene(d1, d2, d3, d4, d5, d6, d7, d8)\n",
    "print(\"levene:\\n\" + str(levene_result))\n",
    "anova_result = f_oneway(d1, d2, d3, d4, d5, d6, d7, d8)\n",
    "print(\"Anova:\\n\" + str(anova_result))\n",
    "#direct_listener_all = extractGroup('direct-listener')\n",
    "#artifacts_all = extractGroup('artifacts')"
   ]
  },
  {
   "cell_type": "code",
   "execution_count": 129,
   "metadata": {},
   "outputs": [
    {
     "name": "stdout",
     "output_type": "stream",
     "text": [
      "\\begin{tabular}{lrrrrr}\n",
      "\\toprule\n",
      "{} &   Min. &  Median &   Mean &  Max. &  Std. Dev. \\\\\n",
      "\\midrule\n",
      "0 &  5.625 &   5.667 &  5.677 &  5.75 &      0.022 \\\\\n",
      "\\bottomrule\n",
      "\\end{tabular}\n",
      "\n"
     ]
    }
   ],
   "source": [
    "# FOR Direct - Listener\n",
    "\n",
    "direct_listener_all = extractGroup('direct-listener').to_numpy().flatten()\n",
    "descriptive_stats(pd.DataFrame(direct_listener_all), 48.0)\n"
   ]
  },
  {
   "cell_type": "code",
   "execution_count": 135,
   "metadata": {},
   "outputs": [
    {
     "name": "stdout",
     "output_type": "stream",
     "text": [
      "1    0.000000\n",
      "2    0.000000\n",
      "3    0.000000\n",
      "4    0.000000\n",
      "5    0.000000\n",
      "6    0.000000\n",
      "7    0.366667\n",
      "8    0.900000\n",
      "dtype: float64\n",
      "1    0\n",
      "2    0\n",
      "3    0\n",
      "4    0\n",
      "5    0\n",
      "6    0\n",
      "7    3\n",
      "8    4\n",
      "dtype: int64\n"
     ]
    }
   ],
   "source": [
    "# FOR artifacts\n",
    "\n",
    "artifacts_all = extractGroup('artifacts')\n",
    "print(np.mean(artifacts_all))\n",
    "print(np.max(artifacts_all))"
   ]
  }
 ],
 "metadata": {
  "kernelspec": {
   "display_name": "Python 3",
   "language": "python",
   "name": "python3"
  },
  "language_info": {
   "codemirror_mode": {
    "name": "ipython",
    "version": 3
   },
   "file_extension": ".py",
   "mimetype": "text/x-python",
   "name": "python",
   "nbconvert_exporter": "python",
   "pygments_lexer": "ipython3",
   "version": "3.8.3"
  }
 },
 "nbformat": 4,
 "nbformat_minor": 4
}
