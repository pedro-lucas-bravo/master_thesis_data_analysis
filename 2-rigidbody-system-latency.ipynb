{
 "cells": [
  {
   "cell_type": "markdown",
   "metadata": {},
   "source": [
    "# rigidbody-system-latency\n",
    "\n",
    "Explanation: More agents, heavier for cpu, more processing for spatial audio because it increases encoders, decoders, signals, etc, and synthes\n",
    "\n",
    "SUBSTRACT screen latency"
   ]
  },
  {
   "cell_type": "code",
   "execution_count": 1,
   "metadata": {},
   "outputs": [],
   "source": [
    "#packages\n",
    "import pandas as pd\n",
    "import numpy as np\n",
    "import matplotlib.pyplot as plt"
   ]
  },
  {
   "cell_type": "code",
   "execution_count": 2,
   "metadata": {},
   "outputs": [
    {
     "data": {
      "image/png": "[encoded data removed]",
      "text/plain": [
       "<Figure size 432x288 with 1 Axes>"
      ]
     },
     "metadata": {
      "needs_background": "light"
     },
     "output_type": "display_data"
    },
    {
     "name": "stdout",
     "output_type": "stream",
     "text": [
      "[ 88.88888889  83.33333333  91.66666667 100.          94.44444444\n",
      " 100.          97.22222222 105.55555556]\n",
      "all mean: 95.13888888888889\n"
     ]
    }
   ],
   "source": [
    "#Load file\n",
    "rigidbody_system_latency = pd.read_csv('./FinalDatasets/rigidbody-system-latency/rigidbody-system-latency.csv')\n",
    "\n",
    "means_per_agent = []\n",
    "for i in range(8):\n",
    "    means_per_agent.append(np.mean(rigidbody_system_latency['frames_60'].values[6 * i: 6 * (i + 1)]))\n",
    "\n",
    "means_per_agent = np.array(means_per_agent) * 1000/60.0\n",
    "plt.figure()\n",
    "plt.xlabel('Agent Size')\n",
    "plt.ylabel('Rigidbody-System Latency (ms)')\n",
    "plt.plot(np.arange(1, 9, 1), means_per_agent)\n",
    "plt.savefig('figures/2-rigidbody-system-latency/rigidbody-system-latency.pdf')\n",
    "plt.show()\n",
    "print(means_per_agent)\n",
    "print('all mean: ' + str(np.mean(rigidbody_system_latency['frames_60'].values) * 1000/60))\n"
   ]
  },
  {
   "cell_type": "code",
   "execution_count": 36,
   "metadata": {},
   "outputs": [
    {
     "data": {
      "text/plain": [
       "19.393717230943114"
      ]
     },
     "execution_count": 36,
     "metadata": {},
     "output_type": "execute_result"
    }
   ],
   "source": [
    "import numpy.linalg as LA\n",
    "def angleBetween(a, b):\n",
    "\n",
    "    inner = np.inner(a, b)\n",
    "    norms = LA.norm(a) * LA.norm(b)\n",
    "\n",
    "    cos = inner / norms\n",
    "    rad = np.arccos(np.clip(cos, -1.0, 1.0))\n",
    "    deg = np.rad2deg(rad)\n",
    "    return rad, deg\n",
    "\n",
    "def unit_vector(vector):\n",
    "    \"\"\" Returns the unit vector of the vector.  \"\"\"\n",
    "    return vector / np.linalg.norm(vector)\n",
    "\n",
    "def angle_between(v1, v2):\n",
    "    \"\"\" Returns the angle in radians between vectors 'v1' and 'v2'::\n",
    "\n",
    "            >>> angle_between((1, 0, 0), (0, 1, 0))\n",
    "            1.5707963267948966\n",
    "            >>> angle_between((1, 0, 0), (1, 0, 0))\n",
    "            0.0\n",
    "            >>> angle_between((1, 0, 0), (-1, 0, 0))\n",
    "            3.141592653589793\n",
    "    \"\"\"\n",
    "    v1_u = unit_vector(v1)\n",
    "    v2_u = unit_vector(v2)\n",
    "    rad = np.arccos(np.clip(np.dot(v1_u, v2_u), -1.0, 1.0))\n",
    "    return rad, np.rad2deg(rad)\n",
    "\n",
    "rigidbody_system_latency\n",
    "x = rigidbody_system_latency['b_s_x_mm'] - rigidbody_system_latency['a_s_x_mm']\n",
    "y = rigidbody_system_latency['b_s_y_mm'] - rigidbody_system_latency['a_s_y_mm']\n",
    "z = rigidbody_system_latency['b_s_z_mm'] - rigidbody_system_latency['a_s_z_mm']\n",
    "\n",
    "up = np.zeros((48, 3))\n",
    "up[:, 2] =  1\n",
    "\n",
    "vectors = np.array([x, y, z]).transpose()\n",
    "\n",
    "deg_all = []\n",
    "for i in range(vectors.shape[0]):\n",
    "    rad, deg = angle_between(vectors[i], up[i])\n",
    "    deg_all.append(deg - 90)\n",
    "np.mean(deg_all)"
   ]
  },
  {
   "cell_type": "code",
   "execution_count": 22,
   "metadata": {},
   "outputs": [
    {
     "data": {
      "text/plain": [
       "array([[90.0769716 , 90.0769716 , 90.0769716 , ..., 90.0769716 ,\n",
       "        90.0769716 , 90.0769716 ],\n",
       "       [90.1979273 , 90.1979273 , 90.1979273 , ..., 90.1979273 ,\n",
       "        90.1979273 , 90.1979273 ],\n",
       "       [90.28589561, 90.28589561, 90.28589561, ..., 90.28589561,\n",
       "        90.28589561, 90.28589561],\n",
       "       ...,\n",
       "       [90.40318778, 90.40318778, 90.40318778, ..., 90.40318778,\n",
       "        90.40318778, 90.40318778],\n",
       "       [90.50215433, 90.50215433, 90.50215433, ..., 90.50215433,\n",
       "        90.50215433, 90.50215433],\n",
       "       [90.63411212, 90.63411212, 90.63411212, ..., 90.63411212,\n",
       "        90.63411212, 90.63411212]])"
      ]
     },
     "execution_count": 22,
     "metadata": {},
     "output_type": "execute_result"
    }
   ],
   "source": [
    "deg"
   ]
  }
 ],
 "metadata": {
  "kernelspec": {
   "display_name": "Python 3",
   "language": "python",
   "name": "python3"
  },
  "language_info": {
   "codemirror_mode": {
    "name": "ipython",
    "version": 3
   },
   "file_extension": ".py",
   "mimetype": "text/x-python",
   "name": "python",
   "nbconvert_exporter": "python",
   "pygments_lexer": "ipython3",
   "version": "3.8.3"
  }
 },
 "nbformat": 4,
 "nbformat_minor": 4
}
