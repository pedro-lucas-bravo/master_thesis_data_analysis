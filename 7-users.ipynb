{
 "cells": [
  {
   "cell_type": "markdown",
   "metadata": {},
   "source": [
    "# User Data Analysis"
   ]
  },
  {
   "cell_type": "code",
   "execution_count": 45,
   "metadata": {},
   "outputs": [],
   "source": [
    "#packages\n",
    "import pandas as pd\n",
    "import numpy as np\n",
    "from scipy.stats import levene\n",
    "from scipy.stats import f_oneway\n",
    "from scipy.stats import kruskal\n",
    "from scipy.stats import ttest_ind\n",
    "from scipy.stats import linregress\n",
    "from scipy.stats import pearsonr\n",
    "import matplotlib.pyplot as plt\n",
    "import seaborn as sns"
   ]
  },
  {
   "cell_type": "markdown",
   "metadata": {},
   "source": [
    "## Rigid body position heatmap"
   ]
  },
  {
   "cell_type": "code",
   "execution_count": 47,
   "metadata": {},
   "outputs": [
    {
     "data": {
      "text/plain": [
       "<matplotlib.axes._subplots.AxesSubplot at 0x151058f8a90>"
      ]
     },
     "execution_count": 47,
     "metadata": {},
     "output_type": "execute_result"
    },
    {
     "data": {
      "image/png": "[encoded data removed]",
      "text/plain": [
       "<Figure size 432x288 with 2 Axes>"
      ]
     },
     "metadata": {
      "needs_background": "light"
     },
     "output_type": "display_data"
    }
   ],
   "source": [
    "user_data = pd.read_csv('./FinalDatasets/users/pedro.txt')\n",
    "start_data = user_data.loc[user_data['start'].str.contains('globalstart')]# if not it assumes it is all data BE CAREFUL HERE\n",
    "startTime = 0\n",
    "if start_data.shape[0] > 0:\n",
    "    startTime = float(start_data.values[0][0].split()[0])\n",
    "    print(startTime)\n",
    "mocap_data = user_data.loc[user_data['start'].str.contains('mocap')]\n",
    "mocap_data = mocap_data.start.str.split(pat=' ',expand=True)\n",
    "mocap_data = mocap_data[mocap_data[0].astype(float) > startTime]\n",
    "\n",
    "# plt.figure()\n",
    "data = np.array([mocap_data[2].astype(float), mocap_data[3].astype(float)])\n",
    "# print(data)\n",
    "# plt.imshow(data)\n",
    "# plt.show()\n",
    "#print(mocap_data[2].astype(float).values.tolist())\n",
    "#1179898.380\n",
    "\n",
    "sns.heatmap(data)"
   ]
  }
 ],
 "metadata": {
  "kernelspec": {
   "display_name": "Python 3",
   "language": "python",
   "name": "python3"
  },
  "language_info": {
   "codemirror_mode": {
    "name": "ipython",
    "version": 3
   },
   "file_extension": ".py",
   "mimetype": "text/x-python",
   "name": "python",
   "nbconvert_exporter": "python",
   "pygments_lexer": "ipython3",
   "version": "3.8.3"
  }
 },
 "nbformat": 4,
 "nbformat_minor": 4
}
