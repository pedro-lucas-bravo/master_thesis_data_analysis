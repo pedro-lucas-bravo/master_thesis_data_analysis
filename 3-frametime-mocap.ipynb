{
 "cells": [
  {
   "cell_type": "markdown",
   "metadata": {},
   "source": [
    "# Frametime mocap\n",
    "\n",
    "Not equal mean because of the network traffic, and yet there was not loss packet"
   ]
  },
  {
   "cell_type": "code",
   "execution_count": 1,
   "metadata": {},
   "outputs": [],
   "source": [
    "#packages\n",
    "import pandas as pd\n",
    "import numpy as np\n",
    "from scipy.stats import levene\n",
    "from scipy.stats import f_oneway\n",
    "from scipy.stats import kruskal\n",
    "from scipy.stats import ttest_ind\n",
    "import matplotlib.pyplot as plt"
   ]
  },
  {
   "cell_type": "code",
   "execution_count": 2,
   "metadata": {},
   "outputs": [],
   "source": [
    "def descriptive_stats(dataframe, div = 1.0, roundDec = 3):\n",
    "    stats = (dataframe.describe(include='all').transpose().filter (['min', '50%','mean', 'max', 'std']).set_axis(['Min.', 'Median', 'Mean', 'Max.', 'Std. Dev.'], axis = 1) / div).round(roundDec)\n",
    "    print(stats.to_latex())"
   ]
  },
  {
   "cell_type": "code",
   "execution_count": 7,
   "metadata": {},
   "outputs": [
    {
     "name": "stdout",
     "output_type": "stream",
     "text": [
      "\\begin{tabular}{lrrrrr}\n",
      "\\toprule\n",
      "{} &   Min. &  Median &   Mean &    Max. &  Std. Dev. \\\\\n",
      "\\midrule\n",
      "agent\\_ms\\_1 &  0.082 &   8.235 &  8.313 &  20.705 &      2.109 \\\\\n",
      "agent\\_ms\\_2 &  0.089 &   8.204 &  8.316 &  19.451 &      2.187 \\\\\n",
      "agent\\_ms\\_3 &  0.035 &   8.185 &  8.151 &  33.530 &      2.520 \\\\\n",
      "agent\\_ms\\_4 &  0.067 &   8.207 &  8.321 &  21.807 &      2.317 \\\\\n",
      "agent\\_ms\\_5 &  0.066 &   8.267 &  8.320 &  21.918 &      2.302 \\\\\n",
      "agent\\_ms\\_6 &  0.036 &   8.352 &  8.320 &  31.393 &      2.674 \\\\\n",
      "agent\\_ms\\_7 &  0.024 &   8.355 &  8.322 &  30.924 &      2.957 \\\\\n",
      "agent\\_ms\\_8 &  0.027 &   8.305 &  8.323 &  38.016 &      3.175 \\\\\n",
      "\\bottomrule\n",
      "\\end{tabular}\n",
      "\n"
     ]
    },
    {
     "data": {
      "image/png": "[encoded data removed]",
      "text/plain": [
       "<Figure size 432x288 with 1 Axes>"
      ]
     },
     "metadata": {
      "needs_background": "light"
     },
     "output_type": "display_data"
    },
    {
     "name": "stdout",
     "output_type": "stream",
     "text": [
      "levene:\n",
      "LeveneResult(statistic=109.52734239584093, pvalue=3.278295285090409e-160)\n",
      "Anova:\n",
      "F_onewayResult(statistic=3.984472464116486, pvalue=0.00023061094700739055)\n"
     ]
    }
   ],
   "source": [
    "#Load file\n",
    "frametime_mocap = pd.read_csv('./FinalDatasets/mocap/frametime-mocap-on-system-allagents-ms.csv')\n",
    "descriptive_stats(frametime_mocap)\n",
    "\n",
    "boxdata = frametime_mocap.transpose().values.tolist()\n",
    "fig, ax = plt.subplots()\n",
    "ax.boxplot(boxdata)\n",
    "plt.xlabel('Agent Size')\n",
    "plt.ylabel('Frame Time (ml)')\n",
    "plt.savefig('figures/mocap-frametime-boxplot.pdf')\n",
    "plt.show()\n",
    "\n",
    "d1, d2, d3, d4, d5, d6, d7, d8 = frametime_mocap.transpose().values.tolist()\n",
    "levene_result = levene(d1, d2, d3, d4, d5, d6, d7, d8)\n",
    "print(\"levene:\\n\" + str(levene_result))\n",
    "anova_result = f_oneway(d1, d2, d3, d4, d5, d6, d7, d8)\n",
    "print(\"Anova:\\n\" + str(anova_result))\n"
   ]
  }
 ],
 "metadata": {
  "kernelspec": {
   "display_name": "Python 3",
   "language": "python",
   "name": "python3"
  },
  "language_info": {
   "codemirror_mode": {
    "name": "ipython",
    "version": 3
   },
   "file_extension": ".py",
   "mimetype": "text/x-python",
   "name": "python",
   "nbconvert_exporter": "python",
   "pygments_lexer": "ipython3",
   "version": "3.8.3"
  }
 },
 "nbformat": 4,
 "nbformat_minor": 4
}
